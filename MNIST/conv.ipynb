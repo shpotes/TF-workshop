{
 "cells": [
  {
   "cell_type": "code",
   "execution_count": 1,
   "metadata": {},
   "outputs": [],
   "source": [
    "import tensorflow as tf\n",
    "import numpy as np\n",
    "import matplotlib.pyplot as plt\n",
    "from tensorflow.keras import layers\n",
    "from sklearn.model_selection import train_test_split"
   ]
  },
  {
   "cell_type": "code",
   "execution_count": 2,
   "metadata": {},
   "outputs": [],
   "source": [
    "# Load data\n",
    "fashion_mnist = tf.keras.datasets.fashion_mnist \n",
    "(X_train, y_train), (X_test, y_test) = fashion_mnist.load_data()\n",
    "\n",
    "# Data preprocessing\n",
    "X_train = np.expand_dims(X_train, axis=-1) / 255.0\n",
    "X_test = np.expand_dims(X_test, axis=-1) / 255.0\n",
    "\n",
    "# Validation split\n",
    "X_train, X_val, y_train, y_val = train_test_split(X_train, y_train,\n",
    "                                                  test_size=0.2)"
   ]
  },
  {
   "cell_type": "code",
   "execution_count": 3,
   "metadata": {},
   "outputs": [
    {
     "data": {
      "text/plain": [
       "(48000, 28, 28, 1)"
      ]
     },
     "execution_count": 3,
     "metadata": {},
     "output_type": "execute_result"
    }
   ],
   "source": [
    "X_train.shape"
   ]
  },
  {
   "cell_type": "code",
   "execution_count": 4,
   "metadata": {},
   "outputs": [],
   "source": [
    "model = tf.keras.models.Sequential([\n",
    "    layers.Conv2D(32, (7, 7), activation=\"relu\", input_shape=[28, 28, 1]),\n",
    "    layers.Conv2D(64, (5, 5), activation=\"relu\"),\n",
    "    layers.Flatten(),\n",
    "    layers.Dense(256, activation=\"relu\"),\n",
    "    layers.Dense(128, activation=\"relu\"),\n",
    "    layers.Dense(10, activation=\"softmax\")\n",
    "])"
   ]
  },
  {
   "cell_type": "code",
   "execution_count": 5,
   "metadata": {
    "scrolled": true
   },
   "outputs": [
    {
     "name": "stdout",
     "output_type": "stream",
     "text": [
      "Train on 48000 samples, validate on 12000 samples\n",
      "Epoch 1/15\n",
      "48000/48000 [==============================] - 9s 180us/sample - loss: 0.4800 - accuracy: 0.8276 - val_loss: 0.3633 - val_accuracy: 0.8668\n",
      "Epoch 2/15\n",
      "48000/48000 [==============================] - 7s 150us/sample - loss: 0.3112 - accuracy: 0.8860 - val_loss: 0.2878 - val_accuracy: 0.8921\n",
      "Epoch 3/15\n",
      "48000/48000 [==============================] - 7s 151us/sample - loss: 0.2553 - accuracy: 0.9053 - val_loss: 0.2650 - val_accuracy: 0.9011\n",
      "Epoch 4/15\n",
      "48000/48000 [==============================] - 7s 151us/sample - loss: 0.2128 - accuracy: 0.9206 - val_loss: 0.2588 - val_accuracy: 0.9030\n",
      "Epoch 5/15\n",
      "48000/48000 [==============================] - 7s 151us/sample - loss: 0.1731 - accuracy: 0.9354 - val_loss: 0.2635 - val_accuracy: 0.9107\n",
      "Epoch 6/15\n",
      "48000/48000 [==============================] - 7s 150us/sample - loss: 0.1399 - accuracy: 0.9480 - val_loss: 0.2477 - val_accuracy: 0.9098\n",
      "Epoch 7/15\n",
      "48000/48000 [==============================] - 7s 150us/sample - loss: 0.1067 - accuracy: 0.9602 - val_loss: 0.2974 - val_accuracy: 0.9051\n",
      "Epoch 8/15\n",
      "48000/48000 [==============================] - 7s 149us/sample - loss: 0.0822 - accuracy: 0.9695 - val_loss: 0.2809 - val_accuracy: 0.9162\n",
      "Epoch 9/15\n",
      "48000/48000 [==============================] - 7s 151us/sample - loss: 0.0664 - accuracy: 0.9762 - val_loss: 0.3224 - val_accuracy: 0.9126\n",
      "Epoch 10/15\n",
      "48000/48000 [==============================] - 7s 150us/sample - loss: 0.0513 - accuracy: 0.9818 - val_loss: 0.3842 - val_accuracy: 0.9038\n",
      "Epoch 11/15\n",
      "48000/48000 [==============================] - 7s 150us/sample - loss: 0.0411 - accuracy: 0.9852 - val_loss: 0.3771 - val_accuracy: 0.9137\n",
      "Epoch 12/15\n",
      "48000/48000 [==============================] - 7s 150us/sample - loss: 0.0344 - accuracy: 0.9882 - val_loss: 0.3868 - val_accuracy: 0.9096\n",
      "Epoch 13/15\n",
      "48000/48000 [==============================] - 7s 151us/sample - loss: 0.0281 - accuracy: 0.9901 - val_loss: 0.4285 - val_accuracy: 0.9118\n",
      "Epoch 14/15\n",
      "48000/48000 [==============================] - 7s 150us/sample - loss: 0.0240 - accuracy: 0.9915 - val_loss: 0.4636 - val_accuracy: 0.9088\n",
      "Epoch 15/15\n",
      "48000/48000 [==============================] - 7s 149us/sample - loss: 0.0218 - accuracy: 0.9924 - val_loss: 0.4665 - val_accuracy: 0.9068\n"
     ]
    }
   ],
   "source": [
    "model.compile(loss=\"sparse_categorical_crossentropy\",\n",
    "              optimizer=tf.optimizers.Adam(learning_rate=3e-4),\n",
    "              metrics=[\"accuracy\"])\n",
    "\n",
    "hist = model.fit(X_train, y_train,\n",
    "                 batch_size=32, epochs=15,\n",
    "                 validation_data=(X_val, y_val))"
   ]
  },
  {
   "cell_type": "code",
   "execution_count": 6,
   "metadata": {
    "scrolled": true
   },
   "outputs": [
    {
     "data": {
      "image/png": "[encoded data removed]",
      "text/plain": [
       "<Figure size 432x288 with 1 Axes>"
      ]
     },
     "metadata": {
      "needs_background": "light"
     },
     "output_type": "display_data"
    }
   ],
   "source": [
    "plt.plot(hist.history['accuracy'], label='train')\n",
    "plt.plot(hist.history['val_accuracy'], label='val')\n",
    "plt.legend()\n",
    "plt.show()"
   ]
  },
  {
   "cell_type": "markdown",
   "metadata": {},
   "source": [
    "![](https://miro.medium.com/max/1280/1*gGI9oAz0REW2hnU6YKmqDQ.jpeg)"
   ]
  },
  {
   "cell_type": "code",
   "execution_count": 7,
   "metadata": {
    "scrolled": true
   },
   "outputs": [
    {
     "name": "stdout",
     "output_type": "stream",
     "text": [
      "Train on 48000 samples, validate on 12000 samples\n",
      "Epoch 1/30\n",
      "48000/48000 [==============================] - 10s 208us/sample - loss: 0.7968 - accuracy: 0.8021 - val_loss: 0.6186 - val_accuracy: 0.8386\n",
      "Epoch 2/30\n",
      "48000/48000 [==============================] - 9s 194us/sample - loss: 0.5836 - accuracy: 0.8508 - val_loss: 0.5372 - val_accuracy: 0.8622\n",
      "Epoch 3/30\n",
      "48000/48000 [==============================] - 9s 195us/sample - loss: 0.5313 - accuracy: 0.8614 - val_loss: 0.4959 - val_accuracy: 0.8720\n",
      "Epoch 4/30\n",
      "48000/48000 [==============================] - 9s 197us/sample - loss: 0.5085 - accuracy: 0.8685 - val_loss: 0.5032 - val_accuracy: 0.8722\n",
      "Epoch 5/30\n",
      "48000/48000 [==============================] - 10s 201us/sample - loss: 0.4971 - accuracy: 0.8701 - val_loss: 0.4801 - val_accuracy: 0.8750\n",
      "Epoch 6/30\n",
      "48000/48000 [==============================] - 9s 190us/sample - loss: 0.4901 - accuracy: 0.8737 - val_loss: 0.4806 - val_accuracy: 0.8748\n",
      "Epoch 7/30\n",
      "48000/48000 [==============================] - 9s 190us/sample - loss: 0.4866 - accuracy: 0.8754 - val_loss: 0.4977 - val_accuracy: 0.8677\n",
      "Epoch 8/30\n",
      "48000/48000 [==============================] - 9s 193us/sample - loss: 0.4831 - accuracy: 0.8727 - val_loss: 0.4702 - val_accuracy: 0.8807\n",
      "Epoch 9/30\n",
      "48000/48000 [==============================] - 9s 190us/sample - loss: 0.4783 - accuracy: 0.8779 - val_loss: 0.4928 - val_accuracy: 0.8694\n",
      "Epoch 10/30\n",
      "48000/48000 [==============================] - 9s 192us/sample - loss: 0.4749 - accuracy: 0.8763 - val_loss: 0.4593 - val_accuracy: 0.8823\n",
      "Epoch 11/30\n",
      "48000/48000 [==============================] - 9s 189us/sample - loss: 0.4719 - accuracy: 0.8770 - val_loss: 0.4757 - val_accuracy: 0.8749\n",
      "Epoch 12/30\n",
      "48000/48000 [==============================] - 9s 191us/sample - loss: 0.4686 - accuracy: 0.8770 - val_loss: 0.4559 - val_accuracy: 0.8813\n",
      "Epoch 13/30\n",
      "48000/48000 [==============================] - 9s 191us/sample - loss: 0.4671 - accuracy: 0.8776 - val_loss: 0.4603 - val_accuracy: 0.8825\n",
      "Epoch 14/30\n",
      "48000/48000 [==============================] - 9s 189us/sample - loss: 0.4662 - accuracy: 0.8783 - val_loss: 0.4552 - val_accuracy: 0.8763\n",
      "Epoch 15/30\n",
      "48000/48000 [==============================] - 9s 189us/sample - loss: 0.4658 - accuracy: 0.8785 - val_loss: 0.4600 - val_accuracy: 0.8788\n",
      "Epoch 16/30\n",
      "48000/48000 [==============================] - 9s 190us/sample - loss: 0.4637 - accuracy: 0.8784 - val_loss: 0.4549 - val_accuracy: 0.8826\n",
      "Epoch 17/30\n",
      "48000/48000 [==============================] - 9s 190us/sample - loss: 0.4604 - accuracy: 0.8784 - val_loss: 0.4546 - val_accuracy: 0.8818\n",
      "Epoch 18/30\n",
      "48000/48000 [==============================] - 9s 190us/sample - loss: 0.4621 - accuracy: 0.8794 - val_loss: 0.4584 - val_accuracy: 0.8790\n",
      "Epoch 19/30\n",
      "48000/48000 [==============================] - 9s 189us/sample - loss: 0.4641 - accuracy: 0.8775 - val_loss: 0.4451 - val_accuracy: 0.8858\n",
      "Epoch 20/30\n",
      "48000/48000 [==============================] - 9s 191us/sample - loss: 0.4630 - accuracy: 0.8782 - val_loss: 0.4520 - val_accuracy: 0.8838\n",
      "Epoch 21/30\n",
      "48000/48000 [==============================] - 9s 188us/sample - loss: 0.4601 - accuracy: 0.8811 - val_loss: 0.4554 - val_accuracy: 0.8820\n",
      "Epoch 22/30\n",
      "48000/48000 [==============================] - 9s 195us/sample - loss: 0.4577 - accuracy: 0.8811 - val_loss: 0.4535 - val_accuracy: 0.8820\n",
      "Epoch 23/30\n",
      "48000/48000 [==============================] - 10s 199us/sample - loss: 0.4607 - accuracy: 0.8811 - val_loss: 0.4986 - val_accuracy: 0.8671\n",
      "Epoch 24/30\n",
      "48000/48000 [==============================] - 10s 200us/sample - loss: 0.4574 - accuracy: 0.8806 - val_loss: 0.4833 - val_accuracy: 0.8722\n",
      "Epoch 25/30\n",
      "48000/48000 [==============================] - 9s 196us/sample - loss: 0.4578 - accuracy: 0.8801 - val_loss: 0.4621 - val_accuracy: 0.8751\n",
      "Epoch 26/30\n",
      "48000/48000 [==============================] - 9s 196us/sample - loss: 0.4580 - accuracy: 0.8804 - val_loss: 0.4307 - val_accuracy: 0.8907\n",
      "Epoch 27/30\n",
      "48000/48000 [==============================] - 9s 197us/sample - loss: 0.4578 - accuracy: 0.8806 - val_loss: 0.4609 - val_accuracy: 0.8741\n",
      "Epoch 28/30\n",
      "48000/48000 [==============================] - 9s 194us/sample - loss: 0.4601 - accuracy: 0.8802 - val_loss: 0.4521 - val_accuracy: 0.8803\n",
      "Epoch 29/30\n",
      "48000/48000 [==============================] - 9s 194us/sample - loss: 0.4545 - accuracy: 0.8804 - val_loss: 0.4674 - val_accuracy: 0.8779\n",
      "Epoch 30/30\n",
      "48000/48000 [==============================] - 9s 194us/sample - loss: 0.4581 - accuracy: 0.8832 - val_loss: 0.4482 - val_accuracy: 0.8852\n"
     ]
    }
   ],
   "source": [
    "l2 = tf.keras.regularizers.l2(l=0.001)\n",
    "\n",
    "model_reg = tf.keras.models.Sequential([\n",
    "    layers.Conv2D(32, (7, 7), activation=\"relu\", kernel_regularizer=l2,\n",
    "                  input_shape=[28, 28, 1]),\n",
    "    layers.Conv2D(64, (5, 5), activation=\"relu\", kernel_regularizer=l2),\n",
    "    layers.Flatten(),\n",
    "    layers.Dense(256, activation=\"relu\", kernel_regularizer=l2),\n",
    "    layers.Dense(128, activation=\"relu\", kernel_regularizer=l2),\n",
    "    layers.Dense(10, activation=\"softmax\", kernel_regularizer=l2)\n",
    "])\n",
    "\n",
    "model_reg.compile(loss=\"sparse_categorical_crossentropy\",\n",
    "                  optimizer=tf.optimizers.Adam(learning_rate=3e-3),\n",
    "                  metrics=[\"accuracy\"])\n",
    "\n",
    "hist = model_reg.fit(X_train, y_train,\n",
    "                 batch_size=32, epochs=30,\n",
    "                 validation_data=(X_val, y_val))"
   ]
  },
  {
   "cell_type": "code",
   "execution_count": 8,
   "metadata": {},
   "outputs": [
    {
     "data": {
      "image/png": "[encoded data removed]",
      "text/plain": [
       "<Figure size 432x288 with 1 Axes>"
      ]
     },
     "metadata": {
      "needs_background": "light"
     },
     "output_type": "display_data"
    }
   ],
   "source": [
    "plt.plot(hist.history['accuracy'], label='train')\n",
    "plt.plot(hist.history['val_accuracy'], label='val')\n",
    "plt.legend()\n",
    "plt.show()"
   ]
  },
  {
   "cell_type": "code",
   "execution_count": 9,
   "metadata": {},
   "outputs": [
    {
     "name": "stdout",
     "output_type": "stream",
     "text": [
      "Train on 48000 samples, validate on 12000 samples\n",
      "Epoch 1/40\n",
      "48000/48000 [==============================] - 10s 206us/sample - loss: 0.8393 - accuracy: 0.8021 - val_loss: 0.6395 - val_accuracy: 0.8517\n",
      "Epoch 2/40\n",
      "48000/48000 [==============================] - 9s 192us/sample - loss: 0.5894 - accuracy: 0.8574 - val_loss: 0.5783 - val_accuracy: 0.8526\n",
      "Epoch 3/40\n",
      "48000/48000 [==============================] - 9s 192us/sample - loss: 0.5257 - accuracy: 0.8705 - val_loss: 0.4872 - val_accuracy: 0.8789\n",
      "Epoch 4/40\n",
      "48000/48000 [==============================] - 9s 190us/sample - loss: 0.4914 - accuracy: 0.8785 - val_loss: 0.4786 - val_accuracy: 0.8782\n",
      "Epoch 5/40\n",
      "48000/48000 [==============================] - 9s 194us/sample - loss: 0.4645 - accuracy: 0.8821 - val_loss: 0.4736 - val_accuracy: 0.8802\n",
      "Epoch 6/40\n",
      "48000/48000 [==============================] - 9s 190us/sample - loss: 0.4423 - accuracy: 0.8888 - val_loss: 0.4539 - val_accuracy: 0.8801\n",
      "Epoch 7/40\n",
      "48000/48000 [==============================] - 9s 192us/sample - loss: 0.4350 - accuracy: 0.8905 - val_loss: 0.4267 - val_accuracy: 0.8917\n",
      "Epoch 8/40\n",
      "48000/48000 [==============================] - 9s 191us/sample - loss: 0.4204 - accuracy: 0.8926 - val_loss: 0.4223 - val_accuracy: 0.8906\n",
      "Epoch 9/40\n",
      "48000/48000 [==============================] - 9s 190us/sample - loss: 0.4098 - accuracy: 0.8961 - val_loss: 0.4291 - val_accuracy: 0.8838\n",
      "Epoch 10/40\n",
      "48000/48000 [==============================] - 9s 193us/sample - loss: 0.4048 - accuracy: 0.8981 - val_loss: 0.3970 - val_accuracy: 0.8995\n",
      "Epoch 11/40\n",
      "48000/48000 [==============================] - 9s 196us/sample - loss: 0.3962 - accuracy: 0.9003 - val_loss: 0.4106 - val_accuracy: 0.8938\n",
      "Epoch 12/40\n",
      "48000/48000 [==============================] - 9s 195us/sample - loss: 0.3941 - accuracy: 0.8995 - val_loss: 0.4142 - val_accuracy: 0.8898\n",
      "Epoch 13/40\n",
      "48000/48000 [==============================] - 9s 194us/sample - loss: 0.3897 - accuracy: 0.9028 - val_loss: 0.4000 - val_accuracy: 0.8932\n",
      "Epoch 14/40\n",
      "48000/48000 [==============================] - 9s 192us/sample - loss: 0.3841 - accuracy: 0.9023 - val_loss: 0.3979 - val_accuracy: 0.8988\n",
      "Epoch 15/40\n",
      "48000/48000 [==============================] - 9s 192us/sample - loss: 0.3791 - accuracy: 0.9053 - val_loss: 0.4213 - val_accuracy: 0.8873\n",
      "Epoch 16/40\n",
      "48000/48000 [==============================] - 9s 193us/sample - loss: 0.3783 - accuracy: 0.9051 - val_loss: 0.4082 - val_accuracy: 0.8920\n",
      "Epoch 17/40\n",
      "48000/48000 [==============================] - 9s 192us/sample - loss: 0.3767 - accuracy: 0.9062 - val_loss: 0.4158 - val_accuracy: 0.8923\n",
      "Epoch 18/40\n",
      "48000/48000 [==============================] - 9s 194us/sample - loss: 0.3742 - accuracy: 0.9066 - val_loss: 0.4028 - val_accuracy: 0.8968\n",
      "Epoch 19/40\n",
      "48000/48000 [==============================] - 9s 191us/sample - loss: 0.3709 - accuracy: 0.9085 - val_loss: 0.3858 - val_accuracy: 0.9003\n",
      "Epoch 20/40\n",
      "48000/48000 [==============================] - 9s 190us/sample - loss: 0.3694 - accuracy: 0.9087 - val_loss: 0.3790 - val_accuracy: 0.9027\n",
      "Epoch 21/40\n",
      "48000/48000 [==============================] - 9s 194us/sample - loss: 0.3687 - accuracy: 0.9099 - val_loss: 0.3861 - val_accuracy: 0.9010\n",
      "Epoch 22/40\n",
      "48000/48000 [==============================] - 9s 193us/sample - loss: 0.3670 - accuracy: 0.9116 - val_loss: 0.3886 - val_accuracy: 0.9035\n",
      "Epoch 23/40\n",
      "48000/48000 [==============================] - 9s 192us/sample - loss: 0.3641 - accuracy: 0.9106 - val_loss: 0.4157 - val_accuracy: 0.8900\n",
      "Epoch 24/40\n",
      "48000/48000 [==============================] - 9s 192us/sample - loss: 0.3636 - accuracy: 0.9110 - val_loss: 0.3901 - val_accuracy: 0.9006\n",
      "Epoch 25/40\n",
      "48000/48000 [==============================] - 9s 194us/sample - loss: 0.3616 - accuracy: 0.9127 - val_loss: 0.3896 - val_accuracy: 0.9013\n",
      "Epoch 26/40\n",
      "48000/48000 [==============================] - 9s 191us/sample - loss: 0.3607 - accuracy: 0.9131 - val_loss: 0.3823 - val_accuracy: 0.9018\n",
      "Epoch 27/40\n",
      "48000/48000 [==============================] - 9s 193us/sample - loss: 0.3594 - accuracy: 0.9130 - val_loss: 0.3829 - val_accuracy: 0.9014\n",
      "Epoch 28/40\n",
      "48000/48000 [==============================] - 9s 197us/sample - loss: 0.3613 - accuracy: 0.9117 - val_loss: 0.3951 - val_accuracy: 0.8986\n",
      "Epoch 29/40\n",
      "48000/48000 [==============================] - 9s 193us/sample - loss: 0.3585 - accuracy: 0.9147 - val_loss: 0.3798 - val_accuracy: 0.9035\n",
      "Epoch 30/40\n",
      "48000/48000 [==============================] - 9s 193us/sample - loss: 0.3556 - accuracy: 0.9140 - val_loss: 0.3978 - val_accuracy: 0.8966\n",
      "Epoch 31/40\n",
      "48000/48000 [==============================] - 9s 192us/sample - loss: 0.3575 - accuracy: 0.9135 - val_loss: 0.3918 - val_accuracy: 0.8992\n",
      "Epoch 32/40\n",
      "48000/48000 [==============================] - 9s 193us/sample - loss: 0.3569 - accuracy: 0.9148 - val_loss: 0.3981 - val_accuracy: 0.8972\n",
      "Epoch 33/40\n",
      "48000/48000 [==============================] - 9s 193us/sample - loss: 0.3562 - accuracy: 0.9160 - val_loss: 0.3848 - val_accuracy: 0.9064\n",
      "Epoch 34/40\n",
      "48000/48000 [==============================] - 9s 192us/sample - loss: 0.3537 - accuracy: 0.9151 - val_loss: 0.3922 - val_accuracy: 0.9012\n",
      "Epoch 35/40\n",
      "48000/48000 [==============================] - 9s 193us/sample - loss: 0.3548 - accuracy: 0.9178 - val_loss: 0.3843 - val_accuracy: 0.9042\n",
      "Epoch 36/40\n",
      "48000/48000 [==============================] - 9s 197us/sample - loss: 0.3535 - accuracy: 0.9164 - val_loss: 0.3884 - val_accuracy: 0.9018\n",
      "Epoch 37/40\n",
      "48000/48000 [==============================] - 9s 192us/sample - loss: 0.3535 - accuracy: 0.9169 - val_loss: 0.3808 - val_accuracy: 0.9032\n",
      "Epoch 38/40\n",
      "48000/48000 [==============================] - 9s 191us/sample - loss: 0.3511 - accuracy: 0.9186 - val_loss: 0.3965 - val_accuracy: 0.8985\n",
      "Epoch 39/40\n",
      "48000/48000 [==============================] - 9s 191us/sample - loss: 0.3525 - accuracy: 0.9181 - val_loss: 0.3782 - val_accuracy: 0.9049\n",
      "Epoch 40/40\n",
      "48000/48000 [==============================] - 9s 192us/sample - loss: 0.3522 - accuracy: 0.9169 - val_loss: 0.3886 - val_accuracy: 0.8998\n"
     ]
    }
   ],
   "source": [
    "l2 = tf.keras.regularizers.l2(l=0.001)\n",
    "\n",
    "model = tf.keras.models.Sequential([\n",
    "    layers.Conv2D(32, (7, 7), activation=\"relu\", kernel_regularizer=l2,\n",
    "                  input_shape=[28, 28, 1]),\n",
    "    layers.Conv2D(64, (5, 5), activation=\"relu\", kernel_regularizer=l2),\n",
    "    layers.Conv2D(128, (3, 3), activation=\"relu\", kernel_regularizer=l2),\n",
    "    layers.Flatten(),\n",
    "    layers.Dense(256, activation=\"relu\", kernel_regularizer=l2),\n",
    "    layers.Dense(128, activation=\"relu\", kernel_regularizer=l2),\n",
    "    layers.Dense(64, activation=\"relu\", kernel_regularizer=l2),\n",
    "    layers.Dense(10, activation=\"softmax\", kernel_regularizer=l2)\n",
    "])\n",
    "\n",
    "model.compile(loss=\"sparse_categorical_crossentropy\",\n",
    "                  optimizer=tf.optimizers.Adam(learning_rate=1e-3),\n",
    "                  metrics=[\"accuracy\"])\n",
    "\n",
    "hist = model.fit(X_train, y_train,\n",
    "                 batch_size=64, epochs=40,\n",
    "                 validation_data=(X_val, y_val))"
   ]
  },
  {
   "cell_type": "code",
   "execution_count": 10,
   "metadata": {},
   "outputs": [
    {
     "data": {
      "image/png": "[encoded data removed]",
      "text/plain": [
       "<Figure size 432x288 with 1 Axes>"
      ]
     },
     "metadata": {
      "needs_background": "light"
     },
     "output_type": "display_data"
    }
   ],
   "source": [
    "plt.plot(hist.history['accuracy'], label='train')\n",
    "plt.plot(hist.history['val_accuracy'], label='val')\n",
    "plt.legend()\n",
    "plt.show()"
   ]
  }
 ],
 "metadata": {
  "kernelspec": {
   "display_name": "Python 3",
   "language": "python",
   "name": "python3"
  },
  "language_info": {
   "codemirror_mode": {
    "name": "ipython",
    "version": 3
   },
   "file_extension": ".py",
   "mimetype": "text/x-python",
   "name": "python",
   "nbconvert_exporter": "python",
   "pygments_lexer": "ipython3",
   "version": "3.6.8"
  }
 },
 "nbformat": 4,
 "nbformat_minor": 2
}
