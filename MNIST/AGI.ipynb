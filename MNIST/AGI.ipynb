{
 "cells": [
  {
   "cell_type": "code",
   "execution_count": 1,
   "metadata": {},
   "outputs": [],
   "source": [
    "import tensorflow as tf\n",
    "import numpy as np\n",
    "import matplotlib.pyplot as plt\n",
    "from tensorflow.keras import layers\n",
    "from sklearn.model_selection import train_test_split"
   ]
  },
  {
   "cell_type": "code",
   "execution_count": 2,
   "metadata": {},
   "outputs": [],
   "source": [
    "# Load data\n",
    "fashion_mnist = tf.keras.datasets.fashion_mnist \n",
    "(X_train, y_train), (X_test, y_test) = fashion_mnist.load_data()\n",
    "\n",
    "# Data preprocessing\n",
    "X_train = X_train / 255.0\n",
    "X_test = X_test / 255.0\n",
    "\n",
    "# Validation split\n",
    "X_train, X_val, y_train, y_val = train_test_split(X_train, y_train,\n",
    "   test_size=0.2)"
   ]
  },
  {
   "cell_type": "code",
   "execution_count": 3,
   "metadata": {},
   "outputs": [
    {
     "name": "stdout",
     "output_type": "stream",
     "text": [
      "Model: \"sequential\"\n",
      "_________________________________________________________________\n",
      "Layer (type)                 Output Shape              Param #   \n",
      "=================================================================\n",
      "flatten (Flatten)            (None, 784)               0         \n",
      "_________________________________________________________________\n",
      "dense (Dense)                (None, 256)               200960    \n",
      "_________________________________________________________________\n",
      "dense_1 (Dense)              (None, 128)               32896     \n",
      "_________________________________________________________________\n",
      "dense_2 (Dense)              (None, 10)                1290      \n",
      "=================================================================\n",
      "Total params: 235,146\n",
      "Trainable params: 235,146\n",
      "Non-trainable params: 0\n",
      "_________________________________________________________________\n"
     ]
    }
   ],
   "source": [
    "model = tf.keras.models.load_model('models/fashion_mnist.h5')\n",
    "model.summary()"
   ]
  },
  {
   "cell_type": "code",
   "execution_count": 4,
   "metadata": {
    "scrolled": true
   },
   "outputs": [
    {
     "name": "stdout",
     "output_type": "stream",
     "text": [
      "test accuracy: 87.87999749183655%\n"
     ]
    }
   ],
   "source": [
    "loss_value, acc = model.evaluate(X_test, y_test, verbose=0)\n",
    "print('test accuracy: {}%'.format(acc * 100))"
   ]
  },
  {
   "cell_type": "code",
   "execution_count": 5,
   "metadata": {},
   "outputs": [
    {
     "data": {
      "text/plain": [
       "array([122, 158, 326, 283, 597, 526, 609, 423, 186, 716,  94, 621,  59,\n",
       "       354, 156, 443, 402, 218, 653, 520, 172, 765,  21, 626,  19, 527,\n",
       "       732, 107, 318,  90,   9, 496,  74, 662, 391, 257, 728, 319, 606,\n",
       "       469, 462, 494,   3, 126, 704,  56, 594, 635, 701, 436, 743, 155,\n",
       "       100,  87, 634, 734,  78, 415, 281, 647, 397, 783,  45, 686, 265,\n",
       "       151, 661, 691, 387, 617, 256,  42, 229, 488, 480, 479, 302, 272,\n",
       "       755, 298, 237, 577, 576, 140, 118,  80, 215, 334, 125, 123,  75,\n",
       "       157, 730, 657, 105, 192, 687, 682,  92, 396, 260, 596, 457, 764,\n",
       "       671, 663,  11, 649, 660, 381, 446, 515, 546, 492, 528, 593, 399,\n",
       "       723, 539, 553, 506, 747, 667, 760, 665, 311, 475, 392, 124,  58,\n",
       "       360, 664, 305, 228, 420, 608,  54, 590,  18, 645, 261,  26, 254,\n",
       "       655, 370, 291,  31, 182, 522, 112, 405, 408, 205, 627, 781, 538,\n",
       "       709, 435, 560, 589, 129, 325, 754,  83, 167, 481, 177, 378, 373,\n",
       "       131, 134, 263, 310, 735, 388, 696, 343, 516, 315,  35, 441, 104,\n",
       "        44,  63, 753, 523, 631, 417, 464, 350,  41, 731, 674, 569, 312,\n",
       "       366, 199, 259, 773,  30,   0, 193,  28, 562, 384, 191, 772,  76,\n",
       "       255, 718, 637, 717,  97,  73, 715, 163, 327, 133, 534, 433,  32,\n",
       "        64, 212, 650, 380, 571, 282, 277, 769, 269, 414, 197, 356, 221,\n",
       "       551, 758, 294, 514, 400, 262,  49, 693, 456, 459, 349, 491, 585,\n",
       "       600, 434, 485, 437, 161, 582, 372, 149, 377, 287, 505, 274, 676,\n",
       "       303, 482, 401, 185, 160, 737, 240,   5, 329, 268, 720, 189, 234,\n",
       "       286,  85, 738, 276,  15, 204, 780, 544,  40, 498, 219, 711, 767,\n",
       "       243, 745, 442, 321, 776, 200, 225,   1, 301, 618, 517, 444, 251,\n",
       "       230, 752, 331, 533, 511, 364, 762, 465, 700, 117,  48, 330, 246,\n",
       "        39,  62, 584, 466, 670, 550, 180, 666, 673, 313, 266, 477, 320,\n",
       "       271, 683, 135, 345, 164, 308, 763, 549, 603, 721, 227,  71, 605,\n",
       "       422, 120, 445, 233, 344, 559, 130, 725, 556, 532, 389, 332, 601,\n",
       "       607, 362, 741, 690,  38,   6, 675,  77, 409, 342,  72, 297, 393,\n",
       "       275, 775, 770,  34,  37, 238, 513, 336, 338, 501, 371, 739,   2,\n",
       "       411, 543, 474, 337, 677, 348, 418, 159, 267, 588, 179,  16, 646,\n",
       "       175, 536, 656, 449, 335, 748,  52, 217, 304, 688, 633, 487, 563,\n",
       "       679, 509, 132, 145, 561, 273, 110,  47, 705, 216, 580, 183,  61,\n",
       "       628, 587, 250, 293, 289, 351, 174,  53, 278, 144, 573, 483, 452,\n",
       "       521, 507,  68, 430, 726, 114, 502, 426, 339, 394, 245, 406, 598,\n",
       "       236, 708,  95, 489, 591, 658, 439, 398, 470, 624, 572, 253,  65,\n",
       "       510, 376, 171,  69, 497, 461,  93, 611, 220,  55, 166, 579, 403,\n",
       "       154, 309, 552, 750, 749, 279, 565, 295, 622, 410, 719, 537, 668,\n",
       "       454,  14, 703, 353, 581, 340, 545, 652, 678, 476, 710,  98, 231,\n",
       "       615, 451, 486, 324, 235, 614, 407, 779, 128, 692, 148, 264, 632,\n",
       "       774,   7, 681,  22, 714, 203, 150, 300, 187,  51, 322, 542, 777,\n",
       "       390, 574,  10, 138,  91, 689, 224, 213, 232, 288, 724, 328,  12,\n",
       "       432, 115, 223, 361, 226, 473, 448, 419, 729, 244, 640, 249, 575,\n",
       "        17, 165,  43, 733, 248,  13, 438,  99, 109, 425, 503, 619, 578,\n",
       "       751, 702, 190, 512, 761, 382,  60, 184,  29, 247, 222, 610, 152,\n",
       "       707, 460, 427, 201, 535, 568, 194, 404, 540, 453, 206, 386,  67,\n",
       "       625, 757, 471, 566,  36, 500,  89, 639, 121, 347, 146, 680, 713,\n",
       "       564, 358,  88, 375,   4, 307,  20, 669, 169,  81,  33, 136, 173,\n",
       "       365,  66, 744, 740, 613, 484, 654, 106, 428, 756,  24, 333, 355,\n",
       "       529, 450,  57, 162, 525, 616, 602, 623, 143,  84, 644,  27, 504,\n",
       "       141, 706, 782, 463, 524, 181, 771, 252,   8, 685, 604, 352,  25,\n",
       "       285, 636, 641, 592, 314, 101, 548, 447, 412, 113, 137, 630, 280,\n",
       "       558, 178, 557, 629, 643, 759, 586, 518, 478, 242, 374,  50, 440,\n",
       "       455, 659, 499, 317, 284,  79, 306, 367, 541, 153, 258, 712, 241,\n",
       "       379, 766, 727,  23, 495, 176, 567, 736, 127, 103, 369, 202, 429,\n",
       "       421, 207, 359, 519, 209, 188, 341, 102, 292, 555, 385, 416, 778,\n",
       "        86, 472,  70, 299, 413, 642, 468, 198,  96, 119, 363, 612, 395,\n",
       "       316, 170, 508, 648, 290, 620, 214, 672, 684, 697,  82, 210, 239,\n",
       "       357, 742, 530, 583, 147,  46, 695, 458, 595, 323, 346, 211, 694,\n",
       "       531, 722, 467, 698, 168, 493, 638, 570, 768, 431, 424, 368, 111,\n",
       "       746, 139, 383, 270, 554, 651, 490, 108, 196, 296, 547, 116, 208,\n",
       "       599, 142, 195, 699])"
      ]
     },
     "execution_count": 5,
     "metadata": {},
     "output_type": "execute_result"
    }
   ],
   "source": [
    "index_mask = np.arange(28 * 28)\n",
    "np.random.shuffle(index_mask)\n",
    "index_mask"
   ]
  },
  {
   "cell_type": "code",
   "execution_count": 6,
   "metadata": {},
   "outputs": [],
   "source": [
    "X_test_demo = X_test.reshape(-1, 28 * 28)\n",
    "X_test_demo = X_test_demo[:, index_mask]\n",
    "X_test_demo = X_test_demo.reshape(-1, 28, 28)"
   ]
  },
  {
   "cell_type": "code",
   "execution_count": 7,
   "metadata": {},
   "outputs": [
    {
     "data": {
      "image/png": "[encoded data removed]",
      "text/plain": [
       "<Figure size 720x720 with 2 Axes>"
      ]
     },
     "metadata": {
      "needs_background": "light"
     },
     "output_type": "display_data"
    }
   ],
   "source": [
    "fig, axs = plt.subplots(1, 2, figsize=(10, 10))\n",
    "axs[0].imshow(X_test[0])\n",
    "axs[1].imshow(X_test_demo[0])\n",
    "plt.show()"
   ]
  },
  {
   "cell_type": "code",
   "execution_count": 14,
   "metadata": {},
   "outputs": [
    {
     "data": {
      "text/plain": [
       "<matplotlib.image.AxesImage at 0x7f82f40aa8d0>"
      ]
     },
     "execution_count": 14,
     "metadata": {},
     "output_type": "execute_result"
    },
    {
     "data": {
      "image/png": "[encoded data removed]",
      "text/plain": [
       "<Figure size 432x288 with 1 Axes>"
      ]
     },
     "metadata": {
      "needs_background": "light"
     },
     "output_type": "display_data"
    }
   ],
   "source": [
    "# que es esto?\n",
    "plt.imshow(X_test_demo[3])"
   ]
  },
  {
   "cell_type": "code",
   "execution_count": 9,
   "metadata": {},
   "outputs": [],
   "source": [
    "w, b = model.layers[1].get_weights()"
   ]
  },
  {
   "cell_type": "code",
   "execution_count": 10,
   "metadata": {},
   "outputs": [
    {
     "data": {
      "text/plain": [
       "((784, 256), (256,))"
      ]
     },
     "execution_count": 10,
     "metadata": {},
     "output_type": "execute_result"
    }
   ],
   "source": [
    "w.shape, b.shape"
   ]
  },
  {
   "cell_type": "code",
   "execution_count": 11,
   "metadata": {},
   "outputs": [
    {
     "data": {
      "text/plain": [
       "(784, 256)"
      ]
     },
     "execution_count": 11,
     "metadata": {},
     "output_type": "execute_result"
    }
   ],
   "source": [
    "w_demo = w[index_mask, :]\n",
    "w_demo.shape"
   ]
  },
  {
   "cell_type": "code",
   "execution_count": 12,
   "metadata": {},
   "outputs": [],
   "source": [
    "model.layers[1].set_weights([w_demo, b])"
   ]
  },
  {
   "cell_type": "code",
   "execution_count": 13,
   "metadata": {},
   "outputs": [
    {
     "name": "stdout",
     "output_type": "stream",
     "text": [
      "test accuracy: 87.87999749183655%\n"
     ]
    }
   ],
   "source": [
    "loss_value, acc = model.evaluate(X_test_demo, y_test, verbose=0)\n",
    "print('test accuracy: {}%'.format(acc * 100))"
   ]
  },
  {
   "cell_type": "code",
   "execution_count": null,
   "metadata": {},
   "outputs": [],
   "source": []
  }
 ],
 "metadata": {
  "kernelspec": {
   "display_name": "Python 3",
   "language": "python",
   "name": "python3"
  },
  "language_info": {
   "codemirror_mode": {
    "name": "ipython",
    "version": 3
   },
   "file_extension": ".py",
   "mimetype": "text/x-python",
   "name": "python",
   "nbconvert_exporter": "python",
   "pygments_lexer": "ipython3",
   "version": "3.6.8"
  }
 },
 "nbformat": 4,
 "nbformat_minor": 2
}
