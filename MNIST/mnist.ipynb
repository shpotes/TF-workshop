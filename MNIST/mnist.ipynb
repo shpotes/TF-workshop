{
 "cells": [
  {
   "cell_type": "code",
   "execution_count": 14,
   "metadata": {},
   "outputs": [],
   "source": [
    "import tensorflow as tf\n",
    "import numpy as np\n",
    "import matplotlib.pyplot as plt\n",
    "from tensorflow.keras import layers\n",
    "from sklearn.model_selection import train_test_split"
   ]
  },
  {
   "cell_type": "code",
   "execution_count": 2,
   "metadata": {},
   "outputs": [
    {
     "data": {
      "text/plain": [
       "((48000, 28, 28), (12000, 28, 28), (10000, 28, 28))"
      ]
     },
     "execution_count": 2,
     "metadata": {},
     "output_type": "execute_result"
    }
   ],
   "source": [
    "# Load data\n",
    "fashion_mnist = tf.keras.datasets.fashion_mnist \n",
    "(X_train, y_train), (X_test, y_test) = fashion_mnist.load_data()\n",
    "\n",
    "# Data preprocessing\n",
    "X_train = X_train / 255.0\n",
    "X_test = X_test / 255.0\n",
    "\n",
    "# Validation split\n",
    "X_train, X_val, y_train, y_val = train_test_split(X_train, y_train,\n",
    "   test_size=0.2)\n",
    "\n",
    "X_train.shape, X_val.shape, X_test.shape"
   ]
  },
  {
   "cell_type": "code",
   "execution_count": 3,
   "metadata": {},
   "outputs": [],
   "source": [
    "# TODO mostrar data"
   ]
  },
  {
   "cell_type": "code",
   "execution_count": 4,
   "metadata": {},
   "outputs": [
    {
     "name": "stdout",
     "output_type": "stream",
     "text": [
      "Model: \"sequential\"\n",
      "_________________________________________________________________\n",
      "Layer (type)                 Output Shape              Param #   \n",
      "=================================================================\n",
      "flatten (Flatten)            (None, 784)               0         \n",
      "_________________________________________________________________\n",
      "dense (Dense)                (None, 256)               200960    \n",
      "_________________________________________________________________\n",
      "dense_1 (Dense)              (None, 128)               32896     \n",
      "_________________________________________________________________\n",
      "dense_2 (Dense)              (None, 10)                1290      \n",
      "=================================================================\n",
      "Total params: 235,146\n",
      "Trainable params: 235,146\n",
      "Non-trainable params: 0\n",
      "_________________________________________________________________\n"
     ]
    }
   ],
   "source": [
    "model = tf.keras.models.Sequential([\n",
    "    layers.Flatten(input_shape=[28, 28]),\n",
    "    layers.Dense(256, activation=\"relu\"),\n",
    "    layers.Dense(128, activation=\"relu\"),\n",
    "    layers.Dense(10, activation=\"softmax\")\n",
    "])\n",
    "model.summary()"
   ]
  },
  {
   "cell_type": "code",
   "execution_count": 5,
   "metadata": {},
   "outputs": [],
   "source": [
    "optim = tf.optimizers.Adam(learning_rate=3e-4)\n",
    "model.compile(loss=\"sparse_categorical_crossentropy\",\n",
    "              optimizer=optim,\n",
    "              metrics=['accuracy'])"
   ]
  },
  {
   "cell_type": "code",
   "execution_count": 6,
   "metadata": {
    "scrolled": false
   },
   "outputs": [
    {
     "name": "stdout",
     "output_type": "stream",
     "text": [
      "Train on 48000 samples, validate on 12000 samples\n",
      "Epoch 1/10\n",
      "48000/48000 [==============================] - 3s 63us/sample - loss: 0.5284 - accuracy: 0.8167 - val_loss: 0.4045 - val_accuracy: 0.8577\n",
      "Epoch 2/10\n",
      "48000/48000 [==============================] - 2s 46us/sample - loss: 0.3827 - accuracy: 0.8629 - val_loss: 0.3790 - val_accuracy: 0.8608\n",
      "Epoch 3/10\n",
      "48000/48000 [==============================] - 2s 44us/sample - loss: 0.3395 - accuracy: 0.8774 - val_loss: 0.3478 - val_accuracy: 0.8749\n",
      "Epoch 4/10\n",
      "48000/48000 [==============================] - 2s 46us/sample - loss: 0.3124 - accuracy: 0.8860 - val_loss: 0.3485 - val_accuracy: 0.8712\n",
      "Epoch 5/10\n",
      "48000/48000 [==============================] - 2s 44us/sample - loss: 0.2928 - accuracy: 0.8931 - val_loss: 0.3255 - val_accuracy: 0.8829\n",
      "Epoch 6/10\n",
      "48000/48000 [==============================] - 2s 43us/sample - loss: 0.2750 - accuracy: 0.8985 - val_loss: 0.3140 - val_accuracy: 0.8888\n",
      "Epoch 7/10\n",
      "48000/48000 [==============================] - 2s 47us/sample - loss: 0.2629 - accuracy: 0.9034 - val_loss: 0.3107 - val_accuracy: 0.8859\n",
      "Epoch 8/10\n",
      "48000/48000 [==============================] - 2s 49us/sample - loss: 0.2525 - accuracy: 0.9052 - val_loss: 0.3127 - val_accuracy: 0.8885\n",
      "Epoch 9/10\n",
      "48000/48000 [==============================] - 2s 48us/sample - loss: 0.2386 - accuracy: 0.9116 - val_loss: 0.3071 - val_accuracy: 0.8899\n",
      "Epoch 10/10\n",
      "48000/48000 [==============================] - 2s 45us/sample - loss: 0.2295 - accuracy: 0.9148 - val_loss: 0.3222 - val_accuracy: 0.8832\n"
     ]
    }
   ],
   "source": [
    "# sanity check\n",
    "history = model.fit(X_train, y_train,\n",
    "                    batch_size=32, epochs=10,\n",
    "                    validation_data=(X_val, y_val))"
   ]
  },
  {
   "cell_type": "code",
   "execution_count": 8,
   "metadata": {},
   "outputs": [
    {
     "data": {
      "text/plain": [
       "<matplotlib.image.AxesImage at 0x7f587003bb38>"
      ]
     },
     "execution_count": 8,
     "metadata": {},
     "output_type": "execute_result"
    },
    {
     "data": {
      "image/png": "[encoded data removed]",
      "text/plain": [
       "<Figure size 432x288 with 1 Axes>"
      ]
     },
     "metadata": {
      "needs_background": "light"
     },
     "output_type": "display_data"
    }
   ],
   "source": [
    "plt.imshow(X_test[0])"
   ]
  },
  {
   "cell_type": "code",
   "execution_count": 9,
   "metadata": {},
   "outputs": [
    {
     "data": {
      "text/plain": [
       "9"
      ]
     },
     "execution_count": 9,
     "metadata": {},
     "output_type": "execute_result"
    }
   ],
   "source": [
    "model.predict(X_test[0].reshape(1, 28, 28)).argmax()"
   ]
  },
  {
   "cell_type": "code",
   "execution_count": 28,
   "metadata": {},
   "outputs": [
    {
     "name": "stdout",
     "output_type": "stream",
     "text": [
      "test accuracy: 87.87999749183655%\n"
     ]
    }
   ],
   "source": [
    "loss_value, acc = model.evaluate(X_test, y_test, verbose=0)\n",
    "print('test accuracy: {}%'.format(acc * 100))"
   ]
  },
  {
   "cell_type": "code",
   "execution_count": 57,
   "metadata": {},
   "outputs": [],
   "source": [
    "model.save('models/fashion_mnist.h5')"
   ]
  }
 ],
 "metadata": {
  "kernelspec": {
   "display_name": "Python 3",
   "language": "python",
   "name": "python3"
  },
  "language_info": {
   "codemirror_mode": {
    "name": "ipython",
    "version": 3
   },
   "file_extension": ".py",
   "mimetype": "text/x-python",
   "name": "python",
   "nbconvert_exporter": "python",
   "pygments_lexer": "ipython3",
   "version": "3.6.8"
  }
 },
 "nbformat": 4,
 "nbformat_minor": 2
}
