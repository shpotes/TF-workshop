{
  "nbformat": 4,
  "nbformat_minor": 0,
  "metadata": {
    "kernelspec": {
      "name": "python3",
      "display_name": "Python 3"
    },
    "language_info": {
      "codemirror_mode": {
        "name": "ipython",
        "version": 3
      },
      "file_extension": ".py",
      "mimetype": "text/x-python",
      "name": "python",
      "nbconvert_exporter": "python",
      "pygments_lexer": "ipython3",
      "version": "3.6.8"
    },
    "colab": {
      "name": "mnist.ipynb",
      "provenance": []
    },
    "accelerator": "GPU"
  },
  "cells": [
    {
      "cell_type": "code",
      "metadata": {
        "id": "8qzhlRWmsI2R",
        "colab_type": "code",
        "colab": {
          "base_uri": "https://localhost:8080/",
          "height": 35
        },
        "outputId": "aba49f8a-5f9d-40f2-c3f2-6ab621097e32"
      },
      "source": [
        "try:\n",
        "  %tensorflow_version 2.x\n",
        "except:\n",
        "  pass"
      ],
      "execution_count": 1,
      "outputs": [
        {
          "output_type": "stream",
          "text": [
            "TensorFlow 2.x selected.\n"
          ],
          "name": "stdout"
        }
      ]
    },
    {
      "cell_type": "code",
      "metadata": {
        "id": "Cm_hbCBbsBXP",
        "colab_type": "code",
        "colab": {}
      },
      "source": [
        "import tensorflow as tf\n",
        "import numpy as np\n",
        "import matplotlib.pyplot as plt\n",
        "from tensorflow.keras import layers\n",
        "from sklearn.model_selection import train_test_split"
      ],
      "execution_count": 0,
      "outputs": []
    },
    {
      "cell_type": "code",
      "metadata": {
        "id": "cVKO6fbdsBXX",
        "colab_type": "code",
        "colab": {
          "base_uri": "https://localhost:8080/",
          "height": 35
        },
        "outputId": "1e5bb5d9-85d1-4a1f-e42c-634b0cddf5fa"
      },
      "source": [
        "# Load data\n",
        "fashion_mnist = tf.keras.datasets.fashion_mnist \n",
        "(X_train, y_train), (X_test, y_test) = fashion_mnist.load_data()\n",
        "\n",
        "# Data preprocessing\n",
        "X_train = X_train / 255.0\n",
        "X_test = X_test / 255.0\n",
        "\n",
        "# Validation split\n",
        "X_train, X_val, y_train, y_val = train_test_split(X_train, y_train,\n",
        "   test_size=0.2)\n",
        "\n",
        "X_train.shape, X_val.shape, X_test.shape"
      ],
      "execution_count": 3,
      "outputs": [
        {
          "output_type": "execute_result",
          "data": {
            "text/plain": [
              "((48000, 28, 28), (12000, 28, 28), (10000, 28, 28))"
            ]
          },
          "metadata": {
            "tags": []
          },
          "execution_count": 3
        }
      ]
    },
    {
      "cell_type": "code",
      "metadata": {
        "id": "GSqcXqkAsBXe",
        "colab_type": "code",
        "colab": {}
      },
      "source": [
        "# TODO mostrar data"
      ],
      "execution_count": 0,
      "outputs": []
    },
    {
      "cell_type": "code",
      "metadata": {
        "id": "PyxQvMuvsBXi",
        "colab_type": "code",
        "colab": {
          "base_uri": "https://localhost:8080/",
          "height": 305
        },
        "outputId": "6674a2e9-13e5-4c10-a3e5-c7b7b890cfcf"
      },
      "source": [
        "model = tf.keras.models.Sequential([\n",
        "    layers.Flatten(input_shape=[28, 28]),\n",
        "    layers.Dense(256, activation=\"relu\"),\n",
        "    layers.Dense(128, activation=\"relu\"),\n",
        "    layers.Dense(10, activation=\"softmax\")\n",
        "])\n",
        "model.summary()"
      ],
      "execution_count": 5,
      "outputs": [
        {
          "output_type": "stream",
          "text": [
            "Model: \"sequential\"\n",
            "_________________________________________________________________\n",
            "Layer (type)                 Output Shape              Param #   \n",
            "=================================================================\n",
            "flatten (Flatten)            (None, 784)               0         \n",
            "_________________________________________________________________\n",
            "dense (Dense)                (None, 256)               200960    \n",
            "_________________________________________________________________\n",
            "dense_1 (Dense)              (None, 128)               32896     \n",
            "_________________________________________________________________\n",
            "dense_2 (Dense)              (None, 10)                1290      \n",
            "=================================================================\n",
            "Total params: 235,146\n",
            "Trainable params: 235,146\n",
            "Non-trainable params: 0\n",
            "_________________________________________________________________\n"
          ],
          "name": "stdout"
        }
      ]
    },
    {
      "cell_type": "code",
      "metadata": {
        "id": "8WGSShfmsBXm",
        "colab_type": "code",
        "colab": {}
      },
      "source": [
        "optim = tf.optimizers.Adam(learning_rate=3e-4)\n",
        "model.compile(loss=\"sparse_categorical_crossentropy\",\n",
        "              optimizer=optim,\n",
        "              metrics=['accuracy'])"
      ],
      "execution_count": 0,
      "outputs": []
    },
    {
      "cell_type": "code",
      "metadata": {
        "scrolled": false,
        "id": "KUzs14aJsBXq",
        "colab_type": "code",
        "colab": {
          "base_uri": "https://localhost:8080/",
          "height": 415
        },
        "outputId": "06b17e48-d07e-4288-b7f9-d9dd3e37f705"
      },
      "source": [
        "# sanity check\n",
        "history = model.fit(X_train, y_train,\n",
        "                    batch_size=32, epochs=10,\n",
        "                    validation_data=(X_val, y_val))"
      ],
      "execution_count": 7,
      "outputs": [
        {
          "output_type": "stream",
          "text": [
            "Train on 48000 samples, validate on 12000 samples\n",
            "Epoch 1/10\n",
            "48000/48000 [==============================] - 5s 106us/sample - loss: 0.5351 - accuracy: 0.8158 - val_loss: 0.4284 - val_accuracy: 0.8478\n",
            "Epoch 2/10\n",
            "48000/48000 [==============================] - 4s 89us/sample - loss: 0.3865 - accuracy: 0.8620 - val_loss: 0.3694 - val_accuracy: 0.8685\n",
            "Epoch 3/10\n",
            "48000/48000 [==============================] - 4s 89us/sample - loss: 0.3422 - accuracy: 0.8753 - val_loss: 0.3381 - val_accuracy: 0.8793\n",
            "Epoch 4/10\n",
            "48000/48000 [==============================] - 4s 90us/sample - loss: 0.3132 - accuracy: 0.8854 - val_loss: 0.3530 - val_accuracy: 0.8719\n",
            "Epoch 5/10\n",
            "48000/48000 [==============================] - 4s 89us/sample - loss: 0.2934 - accuracy: 0.8917 - val_loss: 0.3512 - val_accuracy: 0.8751\n",
            "Epoch 6/10\n",
            "48000/48000 [==============================] - 4s 88us/sample - loss: 0.2775 - accuracy: 0.8974 - val_loss: 0.3098 - val_accuracy: 0.8923\n",
            "Epoch 7/10\n",
            "48000/48000 [==============================] - 4s 88us/sample - loss: 0.2604 - accuracy: 0.9038 - val_loss: 0.3281 - val_accuracy: 0.8803\n",
            "Epoch 8/10\n",
            "48000/48000 [==============================] - 4s 89us/sample - loss: 0.2507 - accuracy: 0.9060 - val_loss: 0.2942 - val_accuracy: 0.8947\n",
            "Epoch 9/10\n",
            "48000/48000 [==============================] - 4s 89us/sample - loss: 0.2381 - accuracy: 0.9118 - val_loss: 0.3244 - val_accuracy: 0.8880\n",
            "Epoch 10/10\n",
            "48000/48000 [==============================] - 4s 87us/sample - loss: 0.2267 - accuracy: 0.9154 - val_loss: 0.2974 - val_accuracy: 0.8943\n"
          ],
          "name": "stdout"
        }
      ]
    },
    {
      "cell_type": "code",
      "metadata": {
        "id": "gq0R2iAFsBXv",
        "colab_type": "code",
        "colab": {
          "base_uri": "https://localhost:8080/",
          "height": 283
        },
        "outputId": "ff5e31cf-0b1c-4927-eefc-4090ff01adab"
      },
      "source": [
        "plt.imshow(X_test[0])"
      ],
      "execution_count": 8,
      "outputs": [
        {
          "output_type": "execute_result",
          "data": {
            "text/plain": [
              "<matplotlib.image.AxesImage at 0x7f96084aac18>"
            ]
          },
          "metadata": {
            "tags": []
          },
          "execution_count": 8
        },
        {
          "output_type": "display_data",
          "data": {
            "image/png": "[encoded data removed]",
            "text/plain": [
              "<Figure size 432x288 with 1 Axes>"
            ]
          },
          "metadata": {
            "tags": []
          }
        }
      ]
    },
    {
      "cell_type": "code",
      "metadata": {
        "id": "KzAd10zVsBX1",
        "colab_type": "code",
        "colab": {
          "base_uri": "https://localhost:8080/",
          "height": 35
        },
        "outputId": "f1f13688-4bc1-4eb5-ba6b-091dd5f00abc"
      },
      "source": [
        "model.predict(X_test[0].reshape(1, 28, 28)).argmax()"
      ],
      "execution_count": 9,
      "outputs": [
        {
          "output_type": "execute_result",
          "data": {
            "text/plain": [
              "9"
            ]
          },
          "metadata": {
            "tags": []
          },
          "execution_count": 9
        }
      ]
    },
    {
      "cell_type": "code",
      "metadata": {
        "id": "hI4Tq5Z0sBX8",
        "colab_type": "code",
        "colab": {
          "base_uri": "https://localhost:8080/",
          "height": 35
        },
        "outputId": "fcd1a12b-68f4-4cc6-b0f1-9b8bdaa87375"
      },
      "source": [
        "loss_value, acc = model.evaluate(X_test, y_test, verbose=0)\n",
        "print('test accuracy: {}%'.format(acc * 100))"
      ],
      "execution_count": 10,
      "outputs": [
        {
          "output_type": "stream",
          "text": [
            "test accuracy: 88.99999856948853%\n"
          ],
          "name": "stdout"
        }
      ]
    },
    {
      "cell_type": "code",
      "metadata": {
        "id": "CutDUvSIsBYC",
        "colab_type": "code",
        "colab": {}
      },
      "source": [
        "model.save('fashion_mnist.h5')"
      ],
      "execution_count": 0,
      "outputs": []
    }
  ]
}